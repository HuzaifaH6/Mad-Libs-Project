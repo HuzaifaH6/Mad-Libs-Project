{
  "nbformat": 4,
  "nbformat_minor": 0,
  "metadata": {
    "colab": {
      "provenance": [],
      "authorship_tag": "ABX9TyP37JbEpotS8jvRwWX56pQh",
      "include_colab_link": true
    },
    "kernelspec": {
      "name": "python3",
      "display_name": "Python 3"
    },
    "language_info": {
      "name": "python"
    }
  },
  "cells": [
    {
      "cell_type": "markdown",
      "metadata": {
        "id": "view-in-github",
        "colab_type": "text"
      },
      "source": [
        "<a href=\"https://colab.research.google.com/github/HuzaifaH6/Mad-Libs-Project/blob/main/Mad_Libs_Python_Project.ipynb\" target=\"_parent\"><img src=\"https://colab.research.google.com/assets/colab-badge.svg\" alt=\"Open In Colab\"/></a>"
      ]
    },
    {
      "cell_type": "code",
      "execution_count": null,
      "metadata": {
        "colab": {
          "base_uri": "https://localhost:8080/"
        },
        "id": "28pgluzlRFWW",
        "outputId": "6372fdf0-b607-457e-f2b1-4d6f4de1e4cb"
      },
      "outputs": [
        {
          "output_type": "stream",
          "name": "stdout",
          "text": [
            "Welcome to the Mad Libs game! Let's create a fun story together.\n"
          ]
        }
      ],
      "source": [
        "print(\"Welcome to the Mad Libs game! Let's create a fun story together.\")\n",
        "\n",
        "# Collecting user inputs\n",
        "adjective = input(\"Enter an adjective: \")\n",
        "noun = input(\"Enter a noun: \")\n",
        "verb = input(\"Enter a verb: \")\n",
        "famous_person = input(\"Enter your favourite person name: \")\n",
        "\n",
        "# Story template with placeholders\n",
        "story_template = f\"A {adjective} chef discovered a special {noun} that made anything {verb}. Even {famous_person} traveled miles to taste it!\"\n",
        "\n",
        "# Displaying the final story\n",
        "print(\"\\nHere's your Mad Libs story:\\n\")\n",
        "print(story_template)"
      ]
    }
  ]
}